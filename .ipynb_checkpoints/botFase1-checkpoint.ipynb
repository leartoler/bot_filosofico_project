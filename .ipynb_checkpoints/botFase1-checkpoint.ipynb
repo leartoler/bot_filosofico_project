{
 "cells": [
  {
   "cell_type": "markdown",
   "metadata": {},
   "source": [
    "# Bot Filosófico\n",
    "---\n",
    "## Primera fase\n",
    "---\n",
    "La primer fase de este bot de Twitter consiste en desarrollar algunas tareas básicas como retweetear o responder a otros usuarios. Para esto, buscamos desarrollar algoritmos que sean capaces de hacer búsquedas de palabras en la red social (el conjunto de palabras serán definidas en un array o un diccionario); cuando el bot encuentre alguna de estas palabras o frases va a activar la función de seleccionar una frase, esta frase será enviada a la API para que sea publicada como un tweet o, idealmente, como un retweet citado. \n",
    "El objetivo del bot es encontrar coinsidencias en el uso de las *trigger words* y su uso en algún texto filosófico.\n"
   ]
  },
  {
   "cell_type": "markdown",
   "metadata": {},
   "source": [
    "Imoportamos algunos modulos y tokens de acceso a la API"
   ]
  },
  {
   "cell_type": "markdown",
   "metadata": {},
   "source": [
    "import tweepy, re, time\n",
    "from access_tfbot import *\n",
    "from random import randint"
   ]
  },
  {
   "cell_type": "markdown",
   "metadata": {},
   "source": [
    "Definimos función para hacer peticiones a la API de Twitter"
   ]
  },
  {
   "cell_type": "code",
   "execution_count": 1,
   "metadata": {},
   "outputs": [],
   "source": [
    "# Setup API:\n",
    "def twitter_setup():\n",
    "\t# Authenticate and access using keys:\n",
    "\tauth = tweepy.OAuthHandler(CONSUMER_KEY, CONSUMER_SECRET)\n",
    "\tauth.set_access_token(ACCESS_TOKEN, ACCESS_SECRET)\n",
    "\n",
    "\t# Return API access:\n",
    "\tapi = tweepy.API(auth)\n",
    "\treturn api"
   ]
  },
  {
   "cell_type": "markdown",
   "metadata": {},
   "source": [
    "Definimos función para leer libro de la data base \"extract_status()\" y llamamos función para seleccionar una frase"
   ]
  },
  {
   "cell_type": "code",
   "execution_count": 2,
   "metadata": {},
   "outputs": [],
   "source": [
    "def extract_status(path=None):\n",
    "\t\tif not path:\n",
    "\t\t\treturn \"No hay libro\"\n",
    "\n",
    "\t\t#busca libro que leer y oracion \n",
    "\t\ttry: \n",
    "\t\t\twith open(path, 'r', encoding='utf-8', errors=\"surrogateescape\") as book:\n",
    "\t\t\t\ttext = book.read()\n",
    "\n",
    "\t\t\t#si la lee exitosamente el libro, busca una oracion\n",
    "\t\t\tif text:\n",
    "\t\t\t\treturn search_sentence(text)\n",
    "\n",
    "\t\texcept:\n",
    "\t\t\treturn \"libro no encontrado\"\n"
   ]
  },
  {
   "cell_type": "markdown",
   "metadata": {},
   "source": [
    "Definimos la función para seleccionar frases \"search_sentence()\""
   ]
  },
  {
   "cell_type": "code",
   "execution_count": 3,
   "metadata": {},
   "outputs": [],
   "source": [
    "def search_sentence(text): \n",
    "\tstatus = 250\n",
    "\n",
    "#mientras tengamos un status largo o muy corto\n",
    "\twhile not (5 < status < 225):\n",
    "\t#genera un numero aleatorio\n",
    "\t\tindex = randint(0, len(text))\n",
    "\t#determina indices de la oracion\n",
    "\t\tinit_index = text[index:].find(\".\") + 2 + index\n",
    "\t\tlast_index = text[init_index:].find(\".\") + 2 + index\n",
    "\t\tstatus = len(text[init_index:last_index])\n",
    "\t#remplaza cualquier caracter que no sea palabra y numero con espacios\n",
    "\tsentence = text[init_index:last_index]\n",
    "\tsentence = re.sub(\"\\W\\d\", \" \", sentence)\n",
    "\treturn sentence"
   ]
  },
  {
   "cell_type": "code",
   "execution_count": null,
   "metadata": {},
   "outputs": [],
   "source": []
  }
 ],
 "metadata": {
  "kernelspec": {
   "display_name": "Python 3",
   "language": "python",
   "name": "python3"
  },
  "language_info": {
   "codemirror_mode": {
    "name": "ipython",
    "version": 3
   },
   "file_extension": ".py",
   "mimetype": "text/x-python",
   "name": "python",
   "nbconvert_exporter": "python",
   "pygments_lexer": "ipython3",
   "version": "3.8.5"
  }
 },
 "nbformat": 4,
 "nbformat_minor": 4
}
