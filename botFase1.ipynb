{
  "nbformat": 4,
  "nbformat_minor": 0,
  "metadata": {
    "kernelspec": {
      "display_name": "Python 3",
      "language": "python",
      "name": "python3"
    },
    "language_info": {
      "codemirror_mode": {
        "name": "ipython",
        "version": 3
      },
      "file_extension": ".py",
      "mimetype": "text/x-python",
      "name": "python",
      "nbconvert_exporter": "python",
      "pygments_lexer": "ipython3",
      "version": "3.8.5"
    },
    "colab": {
      "name": "botFase1.ipynb",
      "provenance": [],
      "collapsed_sections": []
    }
  },
  "cells": [
    {
      "cell_type": "markdown",
      "metadata": {
        "id": "uFhjQLaCV5FM"
      },
      "source": [
        "# Bot Filosófico\n",
        "---\n",
        "## Primera fase\n",
        "---\n",
        "La primer fase de este bot de Twitter consiste en desarrollar algunas tareas básicas como retweetear o responder a otros usuarios. Para esto, buscamos desarrollar algoritmos que sean capaces de hacer búsquedas de palabras en la red social (el conjunto de palabras serán definidas en un array o un diccionario); cuando el bot encuentre alguna de estas palabras o frases va a activar la función de seleccionar una frase, esta frase será enviada a la API para que sea publicada como un tweet o, idealmente, como un retweet citado. \n",
        "El objetivo del bot es encontrar coinsidencias en el uso de las *trigger words* y su uso en algún texto filosófico.\n"
      ]
    },
    {
      "cell_type": "markdown",
      "metadata": {
        "id": "3M0CfqTpV5FN"
      },
      "source": [
        "Imoportamos algunos modulos y tokens de acceso a la API"
      ]
    },
    {
      "cell_type": "code",
      "metadata": {
        "id": "RrAC8wlQWNt_"
      },
      "source": [
        "import tweepy, re, time, nltk\n",
        "from access_tfbot import *\n",
        "from random import randint"
      ],
      "execution_count": null,
      "outputs": []
    },
    {
      "cell_type": "markdown",
      "metadata": {
        "id": "1E8ORyCsV5FP"
      },
      "source": [
        "Definimos función para hacer peticiones a la API de Twitter"
      ]
    },
    {
      "cell_type": "code",
      "metadata": {
        "id": "7Dp8fDuNV5FP"
      },
      "source": [
        "# Setup API:\n",
        "def twitter_setup():\n",
        "\t# Authenticate and access using keys:\n",
        "\tauth = tweepy.OAuthHandler(CONSUMER_KEY, CONSUMER_SECRET)\n",
        "\tauth.set_access_token(ACCESS_TOKEN, ACCESS_SECRET)\n",
        "\n",
        "\t# Return API access:\n",
        "\tapi = tweepy.API(auth)\n",
        "\treturn api"
      ],
      "execution_count": null,
      "outputs": []
    },
    {
      "cell_type": "markdown",
      "metadata": {
        "id": "cm4tkwGQV5FP"
      },
      "source": [
        "Definimos función para leer libro de la data base \"extract_status()\" y llamamos función para seleccionar una frase"
      ]
    },
    {
      "cell_type": "code",
      "metadata": {
        "id": "0YB7MuFFV5FQ"
      },
      "source": [
        "def extract_status(path=None):\n",
        "\t\tif not path:\n",
        "\t\t\treturn \"No hay libro\"\n",
        "\n",
        "\t\t#busca libro que leer y oracion \n",
        "\t\ttry: \n",
        "\t\t\twith open(path, 'r', encoding='utf-8', errors=\"surrogateescape\") as book:\n",
        "\t\t\t\ttext = book.read()\n",
        "\n",
        "\t\t\t#si la lee exitosamente el libro, busca una oracion\n",
        "\t\t\tif text:\n",
        "\t\t\t\treturn search_sentence(text)\n",
        "\n",
        "\t\texcept:\n",
        "\t\t\treturn \"libro no encontrado\"\n"
      ],
      "execution_count": null,
      "outputs": []
    },
    {
      "cell_type": "markdown",
      "metadata": {
        "id": "X3krN-zXV5FQ"
      },
      "source": [
        "Definimos la función para seleccionar frases \"search_sentence()\""
      ]
    },
    {
      "cell_type": "code",
      "metadata": {
        "id": "9kLsOQxNV5FR"
      },
      "source": [
        "def search_sentence(text): \n",
        "\tstatus = 250\n",
        "\n",
        "#mientras tengamos un status largo o muy corto\n",
        "\twhile not (5 < status < 225):\n",
        "\t#genera un numero aleatorio\n",
        "\t\tindex = randint(0, len(text))\n",
        "\t#determina indices de la oracion\n",
        "\t\tinit_index = text[index:].find(\".\") + 2 + index\n",
        "\t\tlast_index = text[init_index:].find(\".\") + 2 + index\n",
        "\t\tstatus = len(text[init_index:last_index])\n",
        "\t#remplaza cualquier caracter que no sea palabra y numero con espacios\n",
        "\tsentence = text[init_index:last_index]\n",
        "\tsentence = re.sub(\"\\W\\d\", \" \", sentence)\n",
        "\treturn sentence"
      ],
      "execution_count": null,
      "outputs": []
    },
    {
      "cell_type": "markdown",
      "metadata": {
        "id": "JAa5Ew8iWdBS"
      },
      "source": [
        "Definimos una función que busque una palabra en un tweet\n"
      ]
    },
    {
      "cell_type": "code",
      "metadata": {
        "id": "SQryktVwV5FR"
      },
      "source": [
        "def search_word_tweet(api):\n",
        "        #definimos conjunto de palabras a buscar\n",
        "        #enviamos el indice aleatorio de un elemento del conjunto definido arriba\n",
        "\t\tsetWords = [\"technology\", \"tech\", \"technical\", \"information\"]\n",
        "\t\trandomWord = randint(0,len(setWords)-1)\n",
        "\t\trandomWord = setWords[randomWord]\n",
        "\t\t#buscamos una palabra aleatoria definida anteriormente e iteramos este proceso n veces en count\n",
        "        #devolvemos una lista con los tweets encontrados\n",
        "\t\tsearchTweet = api.search(q=randomWord, count=1)\n",
        "\t\t#iteramos sobre la lista de tweets encontrados\n",
        "        #definimos un patron con regex para tokenizar el tweet\n",
        "        #imprimimos el numero de iteracion junto con el texto del tweet y el conjunto ordenado de los tokens del tweet mayores a 3 caracteres\n",
        "\t\tfor tweet in searchTweet:\n",
        "\t\t\t\t\turl = f\"https://twitter.com/{tweet.user.screen_name}/status/{tweet.id}\"\n",
        "\t\t\t\t\ttweet = tweet.text\n",
        "\t\t\t\t\tpattern = r'''(?x)                 # set flag to allow verbose regexps\n",
        "              (?:[A-Z]\\.)+         # abbreviations, e.g. U.S.A.\n",
        "              | \\w+(?:-\\w+)*       # words with optional internal hyphens\n",
        "              | \\$?\\d+(?:\\.\\d+)?%? # currency and percentages, e.g. $12.40, 82%\n",
        "              | \\.\\.\\.             # ellipsis\n",
        "              | [][.,;\"'?():-_`]   # these are separate tokens; includes ], [\n",
        "'''\n",
        "\t\t\t\t\ttokens = nltk.regexp_tokenize(tweet, pattern)\n",
        "\t\t\t\t\tprint(f\"{count}, {tweet}\")\n",
        "\t\t\t\t\twords = [word for word in tokens if len(word) > 3]\n",
        "\t\t\t\t\torderedWords = sorted(set(words))\n",
        "\t\t\t\t\tprint(randomWord, \"\\n\", orderedWords)\n",
        "\t\t\t\t\ttweeting(randomWord,url)\n",
        "                    \n",
        "\t\t\t\t\treturn orderedWords, randomWord, url"
      ],
      "execution_count": null,
      "outputs": []
    },
    {
      "cell_type": "markdown",
      "metadata": {
        "id": "UReAdPFwZVMN"
      },
      "source": [
        "Definimos la función para tokenizar el texto extraido de la data base y será enviado a tweetear"
      ]
    },
    {
      "cell_type": "code",
      "metadata": {
        "id": "0rt8lQLiZoEt"
      },
      "source": [
        "def tweeting(randomWord,url):\n",
        "\t\tstatus = extract_status(\"texto.txt\")\n",
        "\t\t#tokenizamos el texto a enviar mayor a tres caracteres\"\n",
        "\t\tstatus_tokens = nltk.tokenize.word_tokenize(status)\n",
        "\t\tstatus_tokens = [word for word in status_tokens if len(word) > 3]\n",
        "\t\tprint(status_tokens)\n",
        "        #si la palabra a buscar está en el texto tokenizado seleccionado de la data base, enviar tweet como retweet citado\n",
        "\t\tif randomWord in status_tokens:\n",
        "\t\t\t\t\tbot.update_status(status +\" \" + url)\n",
        "\t\t\t\t\tprint(f\"{status} \\n Tweet enviado!\")\n",
        "\t\t\t\t\tprint(\"funciona\")\n",
        "\t\telse:\n",
        "\t\t\t\t\twhile not randomWord in status_tokens:\n",
        "\t\t\t\t\t\ttweeting(randomWord, url)\n",
        "          #break\n",
        "          \n",
        "\t\t\t\t\t\treturn status, status_tokens"
      ],
      "execution_count": null,
      "outputs": []
    }
  ]
}